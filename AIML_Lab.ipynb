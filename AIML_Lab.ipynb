{
 "cells": [
  {
   "cell_type": "markdown",
   "metadata": {},
   "source": [
    "# Data Types"
   ]
  },
  {
   "cell_type": "markdown",
   "metadata": {},
   "source": [
    "1) int - placeholder for integer values. SYNTAX:- x = 5\n",
    "2) string - placeholder for an array of characters. SYNTAX:- x = \"This is a string\"\n",
    "3) float - placeholder for decimal values. SYNTAX:- x = 4.6\n",
    "4) bool - it takes True and False values. SYNTAX:- x = True  \n",
    "5) char - it is for the single values. SYNTAX:- x = 'c'\n",
    "6) tuple - it is used to store the. SYNTAX:- x = ('vishal', 'ruhtam', 'lahsiv')\n",
    "7) list - it is used to store the similar type of data within square brackets. SYNTAX:- x = ['corn', 'sweet-corn', 'sweet-potato']\n",
    "8) set - it is used to store the set of unsimilar data. SYNTAX:- x = {'italy', 'potato', 'pizza'}\n",
    "9) dictionary - it is used to store the unordered collection of data with each key having a value. SYNTAX:- x = {1: \"messi\", 2: \"ronaldo\", 3: \"for\", 4: \"goat\"}"
   ]
  },
  {
   "cell_type": "markdown",
   "metadata": {},
   "source": [
    "# Tokens"
   ]
  },
  {
   "cell_type": "markdown",
   "metadata": {},
   "source": [
    "1) keywords - These are the set of code that holds a specific meaning to python. eg:- for, while, if etc.\n",
    "2) Identifiers - These are the names that a programmer assign to certain values in a python code\n",
    "3) opertors - These are the symbols that tell which opearation is to be performed in the "
   ]
  }
 ],
 "metadata": {
  "kernelspec": {
   "display_name": "Python 3",
   "language": "python",
   "name": "python3"
  },
  "language_info": {
   "codemirror_mode": {
    "name": "ipython",
    "version": 3
   },
   "file_extension": ".py",
   "mimetype": "text/x-python",
   "name": "python",
   "nbconvert_exporter": "python",
   "pygments_lexer": "ipython3",
   "version": "3.7.0"
  }
 },
 "nbformat": 4,
 "nbformat_minor": 2
}
