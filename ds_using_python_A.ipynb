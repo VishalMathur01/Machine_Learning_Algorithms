{
 "cells": [
  {
   "cell_type": "markdown",
   "id": "9399b1f9",
   "metadata": {},
   "source": [
    "List = collection of data objects"
   ]
  },
  {
   "cell_type": "markdown",
   "id": "9f8d6464",
   "metadata": {},
   "source": [
    "numpy.array = it is the list with the same data type obejects"
   ]
  },
  {
   "cell_type": "markdown",
   "id": "5c16f8ff",
   "metadata": {},
   "source": [
    "a package has to be imported every time session to be used perfectly"
   ]
  },
  {
   "cell_type": "code",
   "execution_count": 6,
   "id": "a708ae89",
   "metadata": {},
   "outputs": [
    {
     "name": "stdout",
     "output_type": "stream",
     "text": [
      "[9 2 4 1 3]\n",
      "[9. 2. 4. 1. 3.]\n"
     ]
    }
   ],
   "source": [
    "import numpy as np\n",
    "a = np.array([9, 2, 4, 1, 3])\n",
    "b = np.array((9, 2, 4, 1, 3), dtype = 'f')\n",
    "print (a)\n",
    "print(b)"
   ]
  },
  {
   "cell_type": "code",
   "execution_count": 4,
   "id": "c911e28a",
   "metadata": {},
   "outputs": [
    {
     "data": {
      "text/plain": [
       "dtype('int32')"
      ]
     },
     "execution_count": 4,
     "metadata": {},
     "output_type": "execute_result"
    }
   ],
   "source": [
    "a.dtype"
   ]
  },
  {
   "cell_type": "code",
   "execution_count": 7,
   "id": "5ade4aba",
   "metadata": {},
   "outputs": [
    {
     "data": {
      "text/plain": [
       "dtype('float32')"
      ]
     },
     "execution_count": 7,
     "metadata": {},
     "output_type": "execute_result"
    }
   ],
   "source": [
    "b.dtype"
   ]
  },
  {
   "cell_type": "markdown",
   "id": "c24c3234",
   "metadata": {},
   "source": [
    "if you do not specify the data type explicitly then python automatically detects the type and then use them in the array as per the concepts of dynamic programming"
   ]
  },
  {
   "cell_type": "markdown",
   "id": "35ab1b7b",
   "metadata": {},
   "source": [
    "# Numpy (Dimensions)"
   ]
  },
  {
   "cell_type": "code",
   "execution_count": 2,
   "id": "0716e18d",
   "metadata": {},
   "outputs": [],
   "source": [
    "import numpy as np"
   ]
  },
  {
   "cell_type": "code",
   "execution_count": 16,
   "id": "f41f2dcb",
   "metadata": {},
   "outputs": [],
   "source": [
    "a = np.array([[1, 3, 4], [4, 5, 6]])"
   ]
  },
  {
   "cell_type": "markdown",
   "id": "53afb0bf",
   "metadata": {},
   "source": [
    "note :- when using multidimentional arrays then the number of each dimention should remain constant."
   ]
  },
  {
   "cell_type": "code",
   "execution_count": 9,
   "id": "a29199eb",
   "metadata": {},
   "outputs": [
    {
     "name": "stdout",
     "output_type": "stream",
     "text": [
      "2\n"
     ]
    }
   ],
   "source": [
    "print(a.ndim)"
   ]
  },
  {
   "cell_type": "markdown",
   "id": "0b1e667b",
   "metadata": {},
   "source": [
    "ndim = tells how many dimentions are there in the specified array"
   ]
  },
  {
   "cell_type": "code",
   "execution_count": 12,
   "id": "6a3084c8",
   "metadata": {},
   "outputs": [],
   "source": [
    "b = np.array([[[1, 2, 3], [4, 5, 6]], [[3, 2, 4],[2, 5, 1]]])"
   ]
  },
  {
   "cell_type": "markdown",
   "id": "38b4914f",
   "metadata": {},
   "source": [
    "you can also add arrays of two different arrays"
   ]
  },
  {
   "cell_type": "code",
   "execution_count": 9,
   "id": "92d34fac",
   "metadata": {},
   "outputs": [
    {
     "data": {
      "text/plain": [
       "2"
      ]
     },
     "execution_count": 9,
     "metadata": {},
     "output_type": "execute_result"
    }
   ],
   "source": [
    "a.ndim"
   ]
  },
  {
   "cell_type": "code",
   "execution_count": 11,
   "id": "f8d440b2",
   "metadata": {},
   "outputs": [
    {
     "data": {
      "text/plain": [
       "3"
      ]
     },
     "execution_count": 11,
     "metadata": {},
     "output_type": "execute_result"
    }
   ],
   "source": [
    "b.ndim"
   ]
  },
  {
   "cell_type": "code",
   "execution_count": 13,
   "id": "774e278f",
   "metadata": {},
   "outputs": [
    {
     "data": {
      "text/plain": [
       "array([[1, 3, 4],\n",
       "       [4, 5, 6]])"
      ]
     },
     "execution_count": 13,
     "metadata": {},
     "output_type": "execute_result"
    }
   ],
   "source": [
    "a"
   ]
  },
  {
   "cell_type": "code",
   "execution_count": 17,
   "id": "6b7108c6",
   "metadata": {},
   "outputs": [
    {
     "data": {
      "text/plain": [
       "array([[[1, 2, 3],\n",
       "        [4, 5, 6]],\n",
       "\n",
       "       [[3, 2, 4],\n",
       "        [2, 5, 1]]])"
      ]
     },
     "execution_count": 17,
     "metadata": {},
     "output_type": "execute_result"
    }
   ],
   "source": [
    "b"
   ]
  },
  {
   "cell_type": "code",
   "execution_count": 18,
   "id": "44796e60",
   "metadata": {},
   "outputs": [
    {
     "data": {
      "text/plain": [
       "5"
      ]
     },
     "execution_count": 18,
     "metadata": {},
     "output_type": "execute_result"
    }
   ],
   "source": [
    "b[1, 1, 1]"
   ]
  },
  {
   "cell_type": "code",
   "execution_count": 20,
   "id": "359062bf",
   "metadata": {},
   "outputs": [
    {
     "data": {
      "text/plain": [
       "3"
      ]
     },
     "execution_count": 20,
     "metadata": {},
     "output_type": "execute_result"
    }
   ],
   "source": [
    "b.ndim"
   ]
  },
  {
   "cell_type": "code",
   "execution_count": 22,
   "id": "20221148",
   "metadata": {},
   "outputs": [
    {
     "data": {
      "text/plain": [
       "numpy.ndarray"
      ]
     },
     "execution_count": 22,
     "metadata": {},
     "output_type": "execute_result"
    }
   ],
   "source": [
    "type (b)"
   ]
  },
  {
   "cell_type": "markdown",
   "id": "7854bafc",
   "metadata": {},
   "source": [
    "# Shapes"
   ]
  },
  {
   "cell_type": "code",
   "execution_count": 25,
   "id": "23d9fed9",
   "metadata": {},
   "outputs": [],
   "source": [
    "b = np.array([[[1, 2, 3], [4, 5, 6]], [[3, 2, 4],[2, 5, 1]]])"
   ]
  },
  {
   "cell_type": "code",
   "execution_count": 26,
   "id": "d981dcac",
   "metadata": {},
   "outputs": [
    {
     "data": {
      "text/plain": [
       "(2, 2, 3)"
      ]
     },
     "execution_count": 26,
     "metadata": {},
     "output_type": "execute_result"
    }
   ],
   "source": [
    "b.shape"
   ]
  },
  {
   "cell_type": "markdown",
   "id": "9e4fdc9f",
   "metadata": {},
   "source": [
    "here the first element show the how many 2 dimentional arrays are there (here 2 in our case), how many 1-D arrays are there (here 2 in our case) and the last one shows how many elements are there in the 1-D element"
   ]
  },
  {
   "cell_type": "code",
   "execution_count": 27,
   "id": "83a094d8",
   "metadata": {},
   "outputs": [],
   "source": [
    "A = np.array([2])"
   ]
  },
  {
   "cell_type": "code",
   "execution_count": 28,
   "id": "b768ebb5",
   "metadata": {},
   "outputs": [
    {
     "data": {
      "text/plain": [
       "1"
      ]
     },
     "execution_count": 28,
     "metadata": {},
     "output_type": "execute_result"
    }
   ],
   "source": [
    "A.ndim"
   ]
  },
  {
   "cell_type": "code",
   "execution_count": 29,
   "id": "bcb20de1",
   "metadata": {},
   "outputs": [],
   "source": [
    "B = np.array(3)"
   ]
  },
  {
   "cell_type": "code",
   "execution_count": 30,
   "id": "23799685",
   "metadata": {},
   "outputs": [
    {
     "data": {
      "text/plain": [
       "0"
      ]
     },
     "execution_count": 30,
     "metadata": {},
     "output_type": "execute_result"
    }
   ],
   "source": [
    "B.ndim"
   ]
  },
  {
   "cell_type": "code",
   "execution_count": 31,
   "id": "76e1b7b1",
   "metadata": {},
   "outputs": [
    {
     "data": {
      "text/plain": [
       "12"
      ]
     },
     "execution_count": 31,
     "metadata": {},
     "output_type": "execute_result"
    }
   ],
   "source": [
    "b.size"
   ]
  },
  {
   "cell_type": "code",
   "execution_count": 32,
   "id": "300ee247",
   "metadata": {},
   "outputs": [
    {
     "data": {
      "text/plain": [
       "48"
      ]
     },
     "execution_count": 32,
     "metadata": {},
     "output_type": "execute_result"
    }
   ],
   "source": [
    "b.nbytes"
   ]
  },
  {
   "cell_type": "markdown",
   "id": "257a14b6",
   "metadata": {},
   "source": [
    ".size = shows the size of the array\n",
    ".nbytes = shows the number of bytes that the array is holing in the memory"
   ]
  },
  {
   "cell_type": "code",
   "execution_count": 41,
   "id": "9dc8abd4",
   "metadata": {},
   "outputs": [],
   "source": [
    "A = np.arange(100, 1, -2)"
   ]
  },
  {
   "cell_type": "code",
   "execution_count": 42,
   "id": "83dc8df9",
   "metadata": {},
   "outputs": [
    {
     "name": "stdout",
     "output_type": "stream",
     "text": [
      "[100  98  96  94  92  90  88  86  84  82  80  78  76  74  72  70  68  66\n",
      "  64  62  60  58  56  54  52  50  48  46  44  42  40  38  36  34  32  30\n",
      "  28  26  24  22  20  18  16  14  12  10   8   6   4   2]\n"
     ]
    }
   ],
   "source": [
    "print(A)"
   ]
  },
  {
   "cell_type": "code",
   "execution_count": 43,
   "id": "99715119",
   "metadata": {},
   "outputs": [
    {
     "name": "stdout",
     "output_type": "stream",
     "text": [
      "[0, 1, 2, 3, 4, 5, 6, 7, 8, 9]\n"
     ]
    }
   ],
   "source": [
    "print(list(range(10)))"
   ]
  },
  {
   "cell_type": "code",
   "execution_count": 47,
   "id": "2b4e8a2e",
   "metadata": {},
   "outputs": [
    {
     "name": "stdout",
     "output_type": "stream",
     "text": [
      "[4 6 8 0 2 3 1 5 7 9]\n"
     ]
    }
   ],
   "source": [
    "A = np.random.permutation(np.arange(10))\n",
    "print(A)"
   ]
  },
  {
   "cell_type": "code",
   "execution_count": 53,
   "id": "c587083a",
   "metadata": {},
   "outputs": [
    {
     "name": "stdout",
     "output_type": "stream",
     "text": [
      "45\n"
     ]
    }
   ],
   "source": [
    "v = np.random.randint(10, 65)\n",
    "print (v)"
   ]
  },
  {
   "cell_type": "code",
   "execution_count": null,
   "id": "214bf671",
   "metadata": {},
   "outputs": [],
   "source": []
  }
 ],
 "metadata": {
  "kernelspec": {
   "display_name": "Python 3 (ipykernel)",
   "language": "python",
   "name": "python3"
  },
  "language_info": {
   "codemirror_mode": {
    "name": "ipython",
    "version": 3
   },
   "file_extension": ".py",
   "mimetype": "text/x-python",
   "name": "python",
   "nbconvert_exporter": "python",
   "pygments_lexer": "ipython3",
   "version": "3.9.13"
  }
 },
 "nbformat": 4,
 "nbformat_minor": 5
}
