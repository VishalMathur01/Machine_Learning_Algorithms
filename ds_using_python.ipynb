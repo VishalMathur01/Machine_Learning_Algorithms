{
 "cells": [
  {
   "cell_type": "markdown",
   "id": "633a1565",
   "metadata": {},
   "source": [
    "# This is python Tutorial"
   ]
  },
  {
   "cell_type": "markdown",
   "id": "d5032aed",
   "metadata": {},
   "source": [
    "this is our not the first code in python"
   ]
  },
  {
   "cell_type": "markdown",
   "id": "0cf981b2",
   "metadata": {},
   "source": [
    "for changing from markdown to code do to press ESC key then press M:markdown \n",
    "Y:code"
   ]
  },
  {
   "cell_type": "markdown",
   "id": "b43e0fc4",
   "metadata": {},
   "source": [
    "# variables"
   ]
  },
  {
   "cell_type": "code",
   "execution_count": 1,
   "id": "3c014f6d",
   "metadata": {},
   "outputs": [],
   "source": [
    "x =3\n"
   ]
  },
  {
   "cell_type": "code",
   "execution_count": 2,
   "id": "32e31750",
   "metadata": {},
   "outputs": [
    {
     "name": "stdout",
     "output_type": "stream",
     "text": [
      "Variable   Type    Data/Info\n",
      "----------------------------\n",
      "x          int     3\n"
     ]
    }
   ],
   "source": [
    "%whos\n"
   ]
  },
  {
   "cell_type": "markdown",
   "id": "070bf858",
   "metadata": {},
   "source": [
    "%whos = shows all the variables in the memory"
   ]
  },
  {
   "cell_type": "code",
   "execution_count": 4,
   "id": "da1a07e0",
   "metadata": {},
   "outputs": [
    {
     "name": "stdout",
     "output_type": "stream",
     "text": [
      "<class 'int'>\n"
     ]
    }
   ],
   "source": [
    "print(type(x))"
   ]
  },
  {
   "cell_type": "code",
   "execution_count": 5,
   "id": "bf094c4e",
   "metadata": {},
   "outputs": [],
   "source": [
    "x=9.3"
   ]
  },
  {
   "cell_type": "code",
   "execution_count": 6,
   "id": "f88f57e7",
   "metadata": {},
   "outputs": [
    {
     "name": "stdout",
     "output_type": "stream",
     "text": [
      "Variable   Type     Data/Info\n",
      "-----------------------------\n",
      "x          float    9.3\n"
     ]
    }
   ],
   "source": [
    "%whos"
   ]
  },
  {
   "cell_type": "code",
   "execution_count": 7,
   "id": "c32fcccd",
   "metadata": {},
   "outputs": [],
   "source": [
    "abcd = 556.243"
   ]
  },
  {
   "cell_type": "code",
   "execution_count": 8,
   "id": "31d73054",
   "metadata": {},
   "outputs": [
    {
     "name": "stdout",
     "output_type": "stream",
     "text": [
      "Variable   Type     Data/Info\n",
      "-----------------------------\n",
      "abcd       float    556.243\n",
      "x          float    9.3\n"
     ]
    }
   ],
   "source": [
    "%whos"
   ]
  },
  {
   "cell_type": "code",
   "execution_count": 9,
   "id": "6e7a6fc3",
   "metadata": {},
   "outputs": [],
   "source": [
    "del abcd"
   ]
  },
  {
   "cell_type": "code",
   "execution_count": 10,
   "id": "bc00930e",
   "metadata": {},
   "outputs": [],
   "source": [
    "a,b,c,d,e = 2,3,25,21,-234"
   ]
  },
  {
   "cell_type": "code",
   "execution_count": 11,
   "id": "c3d291f8",
   "metadata": {},
   "outputs": [
    {
     "name": "stdout",
     "output_type": "stream",
     "text": [
      "Variable   Type     Data/Info\n",
      "-----------------------------\n",
      "a          int      2\n",
      "b          int      3\n",
      "c          int      25\n",
      "d          int      21\n",
      "e          int      -234\n",
      "x          float    9.3\n"
     ]
    }
   ],
   "source": [
    "%whos"
   ]
  },
  {
   "cell_type": "code",
   "execution_count": 12,
   "id": "d23e3b70",
   "metadata": {},
   "outputs": [],
   "source": [
    "c=2+4j"
   ]
  },
  {
   "cell_type": "code",
   "execution_count": 13,
   "id": "cdcec73d",
   "metadata": {},
   "outputs": [
    {
     "ename": "NameError",
     "evalue": "name 'tyep' is not defined",
     "output_type": "error",
     "traceback": [
      "\u001b[1;31m---------------------------------------------------------------------------\u001b[0m",
      "\u001b[1;31mNameError\u001b[0m                                 Traceback (most recent call last)",
      "\u001b[1;32m~\\AppData\\Local\\Temp\\ipykernel_8472\\751529386.py\u001b[0m in \u001b[0;36m<module>\u001b[1;34m\u001b[0m\n\u001b[1;32m----> 1\u001b[1;33m \u001b[0mprint\u001b[0m\u001b[1;33m(\u001b[0m\u001b[0mtyep\u001b[0m\u001b[1;33m(\u001b[0m\u001b[0mc\u001b[0m\u001b[1;33m)\u001b[0m\u001b[1;33m)\u001b[0m\u001b[1;33m\u001b[0m\u001b[1;33m\u001b[0m\u001b[0m\n\u001b[0m",
      "\u001b[1;31mNameError\u001b[0m: name 'tyep' is not defined"
     ]
    }
   ],
   "source": [
    "print(tyep(c))"
   ]
  },
  {
   "cell_type": "code",
   "execution_count": 14,
   "id": "21be1e0f",
   "metadata": {},
   "outputs": [
    {
     "name": "stdout",
     "output_type": "stream",
     "text": [
      "<class 'complex'>\n"
     ]
    }
   ],
   "source": [
    "print(type(c))"
   ]
  },
  {
   "cell_type": "code",
   "execution_count": 1,
   "id": "36b5aa2f",
   "metadata": {},
   "outputs": [
    {
     "name": "stdout",
     "output_type": "stream",
     "text": [
      "Interactive namespace is empty.\n"
     ]
    }
   ],
   "source": [
    "%who"
   ]
  },
  {
   "cell_type": "code",
   "execution_count": 2,
   "id": "cb55a60d",
   "metadata": {},
   "outputs": [
    {
     "name": "stdout",
     "output_type": "stream",
     "text": [
      "Interactive namespace is empty.\n"
     ]
    }
   ],
   "source": [
    "%whos"
   ]
  },
  {
   "cell_type": "markdown",
   "id": "cb47141e",
   "metadata": {},
   "source": [
    "you can use the ** for ^ task"
   ]
  },
  {
   "cell_type": "markdown",
   "id": "cea6a470",
   "metadata": {},
   "source": [
    "you can use the // for the task of floor division "
   ]
  },
  {
   "cell_type": "markdown",
   "id": "be0a3c9f",
   "metadata": {},
   "source": [
    "# Operators"
   ]
  },
  {
   "cell_type": "code",
   "execution_count": 3,
   "id": "fc8938b3",
   "metadata": {},
   "outputs": [
    {
     "name": "stdout",
     "output_type": "stream",
     "text": [
      "Interactive namespace is empty.\n"
     ]
    }
   ],
   "source": [
    "%whos"
   ]
  },
  {
   "cell_type": "code",
   "execution_count": 4,
   "id": "68641adb",
   "metadata": {},
   "outputs": [],
   "source": [
    "a= 5"
   ]
  },
  {
   "cell_type": "code",
   "execution_count": 5,
   "id": "ab7c10e3",
   "metadata": {},
   "outputs": [],
   "source": [
    "b, c, d, e, C= 4, 23, 432, -3, 2+4j"
   ]
  },
  {
   "cell_type": "code",
   "execution_count": 6,
   "id": "c57a5bc9",
   "metadata": {},
   "outputs": [
    {
     "name": "stdout",
     "output_type": "stream",
     "text": [
      "Variable   Type       Data/Info\n",
      "-------------------------------\n",
      "C          complex    (2+4j)\n",
      "a          int        5\n",
      "b          int        4\n",
      "c          int        23\n",
      "d          int        432\n",
      "e          int        -3\n"
     ]
    }
   ],
   "source": [
    "%whos"
   ]
  },
  {
   "cell_type": "code",
   "execution_count": 7,
   "id": "88ab2ab8",
   "metadata": {},
   "outputs": [],
   "source": [
    "sumOFaAndB =a+b"
   ]
  },
  {
   "cell_type": "code",
   "execution_count": 8,
   "id": "5b0caf0a",
   "metadata": {},
   "outputs": [
    {
     "name": "stdout",
     "output_type": "stream",
     "text": [
      "9\n"
     ]
    }
   ],
   "source": [
    "print(sumOFaAndB)"
   ]
  },
  {
   "cell_type": "code",
   "execution_count": 9,
   "id": "d7f2f3a8",
   "metadata": {},
   "outputs": [
    {
     "data": {
      "text/plain": [
       "int"
      ]
     },
     "execution_count": 9,
     "metadata": {},
     "output_type": "execute_result"
    }
   ],
   "source": [
    "type(a+e)"
   ]
  },
  {
   "cell_type": "code",
   "execution_count": 10,
   "id": "4027dc6e",
   "metadata": {},
   "outputs": [
    {
     "ename": "NameError",
     "evalue": "name 'v' is not defined",
     "output_type": "error",
     "traceback": [
      "\u001b[1;31m---------------------------------------------------------------------------\u001b[0m",
      "\u001b[1;31mNameError\u001b[0m                                 Traceback (most recent call last)",
      "\u001b[1;32m~\\AppData\\Local\\Temp\\ipykernel_10092\\220974283.py\u001b[0m in \u001b[0;36m<module>\u001b[1;34m\u001b[0m\n\u001b[1;32m----> 1\u001b[1;33m \u001b[0mv\u001b[0m\u001b[1;33m-\u001b[0m \u001b[1;33m(\u001b[0m\u001b[1;33m(\u001b[0m\u001b[0ma\u001b[0m\u001b[1;33m+\u001b[0m\u001b[0md\u001b[0m\u001b[1;33m)\u001b[0m\u001b[1;33m**\u001b[0m\u001b[1;36m3\u001b[0m\u001b[1;33m)\u001b[0m\u001b[1;33m//\u001b[0m\u001b[1;36m4\u001b[0m\u001b[1;33m\u001b[0m\u001b[1;33m\u001b[0m\u001b[0m\n\u001b[0m",
      "\u001b[1;31mNameError\u001b[0m: name 'v' is not defined"
     ]
    }
   ],
   "source": [
    "v- ((a+d)**3)//4"
   ]
  },
  {
   "cell_type": "code",
   "execution_count": 11,
   "id": "316e4ac3",
   "metadata": {},
   "outputs": [],
   "source": [
    "v=((a+d)**3)//4"
   ]
  },
  {
   "cell_type": "code",
   "execution_count": 12,
   "id": "1abed78a",
   "metadata": {},
   "outputs": [
    {
     "data": {
      "text/plain": [
       "20863363"
      ]
     },
     "execution_count": 12,
     "metadata": {},
     "output_type": "execute_result"
    }
   ],
   "source": [
    "v"
   ]
  },
  {
   "cell_type": "markdown",
   "id": "9a221e4e",
   "metadata": {},
   "source": [
    "_ stores the last claculated value"
   ]
  },
  {
   "cell_type": "markdown",
   "id": "03a7c092",
   "metadata": {},
   "source": [
    "# comparisons"
   ]
  },
  {
   "cell_type": "code",
   "execution_count": 13,
   "id": "e73ef0ff",
   "metadata": {},
   "outputs": [],
   "source": [
    "d= 3==4"
   ]
  },
  {
   "cell_type": "code",
   "execution_count": 14,
   "id": "14ce0592",
   "metadata": {},
   "outputs": [
    {
     "data": {
      "text/plain": [
       "False"
      ]
     },
     "execution_count": 14,
     "metadata": {},
     "output_type": "execute_result"
    }
   ],
   "source": [
    "d"
   ]
  },
  {
   "cell_type": "code",
   "execution_count": 15,
   "id": "126a0aa7",
   "metadata": {},
   "outputs": [
    {
     "data": {
      "text/plain": [
       "True"
      ]
     },
     "execution_count": 15,
     "metadata": {},
     "output_type": "execute_result"
    }
   ],
   "source": [
    "3==3.0"
   ]
  },
  {
   "cell_type": "code",
   "execution_count": 16,
   "id": "0876127d",
   "metadata": {},
   "outputs": [],
   "source": [
    "x= 3\n",
    "y= 9\n",
    "z= 8.3\n",
    "r= -3"
   ]
  },
  {
   "cell_type": "code",
   "execution_count": 17,
   "id": "ceaf4296",
   "metadata": {},
   "outputs": [
    {
     "data": {
      "text/plain": [
       "True"
      ]
     },
     "execution_count": 17,
     "metadata": {},
     "output_type": "execute_result"
    }
   ],
   "source": [
    "(x<y)"
   ]
  },
  {
   "cell_type": "code",
   "execution_count": 18,
   "id": "b9b96aa8",
   "metadata": {},
   "outputs": [
    {
     "data": {
      "text/plain": [
       "True"
      ]
     },
     "execution_count": 18,
     "metadata": {},
     "output_type": "execute_result"
    }
   ],
   "source": [
    "False and False or True"
   ]
  },
  {
   "cell_type": "markdown",
   "id": "9d6177c4",
   "metadata": {},
   "source": [
    "In the round(2.353423, 2) statement the output would have only 2 decimal places after rounding off the values"
   ]
  },
  {
   "cell_type": "code",
   "execution_count": 19,
   "id": "33169d51",
   "metadata": {},
   "outputs": [
    {
     "name": "stdout",
     "output_type": "stream",
     "text": [
      "2.242\n"
     ]
    }
   ],
   "source": [
    "print(round(2.2423434, 3))"
   ]
  },
  {
   "cell_type": "code",
   "execution_count": 20,
   "id": "8dfd09dc",
   "metadata": {},
   "outputs": [
    {
     "data": {
      "text/plain": [
       "(3, 7)"
      ]
     },
     "execution_count": 20,
     "metadata": {},
     "output_type": "execute_result"
    }
   ],
   "source": [
    " divmod(34, 9)"
   ]
  },
  {
   "cell_type": "markdown",
   "id": "6e46295d",
   "metadata": {},
   "source": [
    "divmod (<1>, <2>) = statement is used to return the quotent and the remainder of the provided values"
   ]
  },
  {
   "cell_type": "code",
   "execution_count": 21,
   "id": "c54c561d",
   "metadata": {},
   "outputs": [],
   "source": [
    "G = _"
   ]
  },
  {
   "cell_type": "code",
   "execution_count": 22,
   "id": "40c138d3",
   "metadata": {},
   "outputs": [
    {
     "data": {
      "text/plain": [
       "7"
      ]
     },
     "execution_count": 22,
     "metadata": {},
     "output_type": "execute_result"
    }
   ],
   "source": [
    "G[1]"
   ]
  },
  {
   "cell_type": "code",
   "execution_count": 23,
   "id": "bc7be185",
   "metadata": {},
   "outputs": [
    {
     "data": {
      "text/plain": [
       "tuple"
      ]
     },
     "execution_count": 23,
     "metadata": {},
     "output_type": "execute_result"
    }
   ],
   "source": [
    "type (G)"
   ]
  },
  {
   "cell_type": "code",
   "execution_count": 24,
   "id": "904d9077",
   "metadata": {},
   "outputs": [
    {
     "name": "stdout",
     "output_type": "stream",
     "text": [
      "(3, 7)\n"
     ]
    }
   ],
   "source": [
    "print(G)"
   ]
  },
  {
   "cell_type": "code",
   "execution_count": 25,
   "id": "18547125",
   "metadata": {},
   "outputs": [
    {
     "name": "stdout",
     "output_type": "stream",
     "text": [
      "True\n"
     ]
    }
   ],
   "source": [
    "print(isinstance(1, int))"
   ]
  },
  {
   "cell_type": "markdown",
   "id": "d674d480",
   "metadata": {},
   "source": [
    "isinstance() = this returns True if the first argument is an instance of that class. Multiple classes can also be checked at once."
   ]
  },
  {
   "cell_type": "code",
   "execution_count": 26,
   "id": "ea8be6cc",
   "metadata": {},
   "outputs": [
    {
     "name": "stdout",
     "output_type": "stream",
     "text": [
      "False\n"
     ]
    }
   ],
   "source": [
    "print(isinstance(1.0, int))"
   ]
  },
  {
   "cell_type": "code",
   "execution_count": 27,
   "id": "9c581314",
   "metadata": {},
   "outputs": [
    {
     "name": "stdout",
     "output_type": "stream",
     "text": [
      "True\n"
     ]
    }
   ],
   "source": [
    "print(isinstance(1.0, (int, float)))"
   ]
  },
  {
   "cell_type": "markdown",
   "id": "496b5977",
   "metadata": {},
   "source": [
    "here we have checked that the 1 or 1.0 belong to the any of the both integer or float classes of variables"
   ]
  },
  {
   "cell_type": "markdown",
   "id": "d4737475",
   "metadata": {},
   "source": [
    "pow(x, y, z)= this represents x raised to the power y and the remainder by z similar to (x^y)%z"
   ]
  },
  {
   "cell_type": "markdown",
   "id": "b4e9f6b4",
   "metadata": {},
   "source": [
    "you can use '?' after any function to get it's documentation"
   ]
  },
  {
   "cell_type": "code",
   "execution_count": 28,
   "id": "f94e5add",
   "metadata": {},
   "outputs": [],
   "source": [
    "pow?"
   ]
  },
  {
   "cell_type": "code",
   "execution_count": 29,
   "id": "b1590e2c",
   "metadata": {},
   "outputs": [],
   "source": [
    "max?"
   ]
  },
  {
   "cell_type": "code",
   "execution_count": 30,
   "id": "d40c7d2e",
   "metadata": {},
   "outputs": [],
   "source": [
    "pow??"
   ]
  },
  {
   "cell_type": "code",
   "execution_count": 31,
   "id": "1dd3665e",
   "metadata": {},
   "outputs": [],
   "source": [
    "??"
   ]
  },
  {
   "cell_type": "code",
   "execution_count": 6,
   "id": "5eef73a1",
   "metadata": {},
   "outputs": [
    {
     "name": "stdout",
     "output_type": "stream",
     "text": [
      "Enter a number: 42\n"
     ]
    }
   ],
   "source": [
    "x = input(\"Enter a number: \")"
   ]
  },
  {
   "cell_type": "code",
   "execution_count": 2,
   "id": "90ad4d8e",
   "metadata": {},
   "outputs": [
    {
     "name": "stdout",
     "output_type": "stream",
     "text": [
      "Eneter a real number: 4234.2423\n"
     ]
    }
   ],
   "source": [
    "b = float(input(\"Eneter a real number: \"))"
   ]
  },
  {
   "cell_type": "code",
   "execution_count": 3,
   "id": "167582bc",
   "metadata": {},
   "outputs": [
    {
     "data": {
      "text/plain": [
       "4234.2423"
      ]
     },
     "execution_count": 3,
     "metadata": {},
     "output_type": "execute_result"
    }
   ],
   "source": [
    "b"
   ]
  },
  {
   "cell_type": "markdown",
   "id": "dfeeb881",
   "metadata": {},
   "source": [
    "?? tells the implementation of a funciton"
   ]
  },
  {
   "cell_type": "markdown",
   "id": "5f1819c0",
   "metadata": {},
   "source": [
    "help(<funciton name>) shows the information of the function"
   ]
  },
  {
   "cell_type": "code",
   "execution_count": 1,
   "id": "9bb5d233",
   "metadata": {},
   "outputs": [
    {
     "name": "stdout",
     "output_type": "stream",
     "text": [
      "Help on method raw_input in module ipykernel.kernelbase:\n",
      "\n",
      "raw_input(prompt='') method of ipykernel.ipkernel.IPythonKernel instance\n",
      "    Forward raw_input to frontends\n",
      "    \n",
      "    Raises\n",
      "    ------\n",
      "    StdinNotImplementedError if active frontend doesn't support stdin.\n",
      "\n"
     ]
    }
   ],
   "source": [
    "help (input)"
   ]
  },
  {
   "cell_type": "code",
   "execution_count": 4,
   "id": "460a3493",
   "metadata": {},
   "outputs": [
    {
     "name": "stdout",
     "output_type": "stream",
     "text": [
      "3\n",
      "4\n",
      "4\n",
      "I am still inside if condition: \n"
     ]
    }
   ],
   "source": [
    "a = int (input())\n",
    "b = int (input())\n",
    "if b > a:\n",
    "    print(b)\n",
    "    print(\"I am still inside if condition: \")"
   ]
  },
  {
   "cell_type": "code",
   "execution_count": 2,
   "id": "254d05fa",
   "metadata": {
    "scrolled": true
   },
   "outputs": [
    {
     "name": "stdout",
     "output_type": "stream",
     "text": [
      "5\n",
      "3\n",
      "a is greater than b\n"
     ]
    }
   ],
   "source": [
    "a = int(input())\n",
    "b = int (input())\n",
    "if a > b:\n",
    "    print(\"a is greater than b\")\n",
    "else:\n",
    "    print(\"b is greater than a\")\n"
   ]
  },
  {
   "cell_type": "markdown",
   "id": "463f6a19",
   "metadata": {},
   "source": [
    "# Control Statement"
   ]
  },
  {
   "cell_type": "code",
   "execution_count": 3,
   "id": "ec126dbe",
   "metadata": {},
   "outputs": [
    {
     "name": "stdout",
     "output_type": "stream",
     "text": [
      "banana\n",
      "apple \n",
      "4.8\n",
      "The loop has run with success\n",
      "out side the loop\n"
     ]
    }
   ],
   "source": [
    "S = { \"apple \", 4.8,\"banana\"}\n",
    "i = 1\n",
    "for x in S:\n",
    "    print(x)\n",
    "    i+= 1\n",
    "#     if i==3:\n",
    "#         break;\n",
    "#     else:\n",
    "#         pass\n",
    "else:\n",
    "    print (\"The loop has run with success\")\n",
    "print (\"out side the loop\")\n",
    "    "
   ]
  },
  {
   "cell_type": "code",
   "execution_count": 6,
   "id": "356696c0",
   "metadata": {},
   "outputs": [
    {
     "name": "stdout",
     "output_type": "stream",
     "text": [
      "A\n",
      "B\n",
      "C\n"
     ]
    }
   ],
   "source": [
    "D = {\"A\": 10, \"B\": -11, \"C\":\"abc\"}\n",
    "for x in D:\n",
    "    print(x)"
   ]
  },
  {
   "cell_type": "markdown",
   "id": "ae1e465d",
   "metadata": {},
   "source": [
    "# Functions"
   ]
  },
  {
   "cell_type": "code",
   "execution_count": 4,
   "id": "359aa3b5",
   "metadata": {},
   "outputs": [
    {
     "name": "stdout",
     "output_type": "stream",
     "text": [
      "Hello\n"
     ]
    }
   ],
   "source": [
    "def printsuccess():\n",
    "    \"\"\"This function does nothing other than printing hello\"\"\"\n",
    "    print(\"Hello\")\n",
    "printsuccess()"
   ]
  },
  {
   "cell_type": "code",
   "execution_count": 5,
   "id": "a1f0c2a6",
   "metadata": {},
   "outputs": [],
   "source": [
    "printsuccess??"
   ]
  },
  {
   "cell_type": "code",
   "execution_count": 15,
   "id": "d333465a",
   "metadata": {},
   "outputs": [],
   "source": [
    "def printMsg(msg):\n",
    "    \"\"\"This function prints the message supplied if it is a string\n",
    "    else it print an error message with the supplied value\"\"\"\n",
    "    if isinstance(msg, str):\n",
    "        print (msg)\n",
    "    else:\n",
    "        print(\"your input argumetn is not a string\")\n",
    "        print(\"Here is what you have supplied along with it's data type\", msg, type(msg))\n",
    "\n",
    "        "
   ]
  },
  {
   "cell_type": "code",
   "execution_count": 13,
   "id": "56f4c4ae",
   "metadata": {},
   "outputs": [
    {
     "name": "stdout",
     "output_type": "stream",
     "text": [
      "Help on function printMsg in module __main__:\n",
      "\n",
      "printMsg(msg)\n",
      "    This function prints the message supplied if it is a string\n",
      "    else it print an error message with the supplied value\n",
      "\n"
     ]
    }
   ],
   "source": [
    "help (printMsg)"
   ]
  },
  {
   "cell_type": "code",
   "execution_count": 16,
   "id": "ac41ad22",
   "metadata": {},
   "outputs": [
    {
     "name": "stdout",
     "output_type": "stream",
     "text": [
      "hello dude\n"
     ]
    }
   ],
   "source": [
    "printMsg(\"hello dude\")"
   ]
  },
  {
   "cell_type": "code",
   "execution_count": 7,
   "id": "e6efada1",
   "metadata": {},
   "outputs": [],
   "source": [
    "def f(a, b, c):\n",
    "    \"\"\"This function is made to demonstrate the precision calling\"\"\"\n",
    "    print(\"A is :\", a)\n",
    "    print(\"B is :\", b)\n",
    "    print(\"C is :\", c)\n",
    "    "
   ]
  },
  {
   "cell_type": "code",
   "execution_count": 4,
   "id": "90cd5e7e",
   "metadata": {},
   "outputs": [
    {
     "name": "stdout",
     "output_type": "stream",
     "text": [
      "A is : Lionel\n",
      "B is : Messi\n",
      "C is : op\n"
     ]
    }
   ],
   "source": [
    "# you can call the above function with more precision by \n",
    "#doing the following\n",
    "f(c= \"op\", a = \"Lionel\", b= \"Messi\")\n"
   ]
  },
  {
   "cell_type": "code",
   "execution_count": 9,
   "id": "baa44002",
   "metadata": {},
   "outputs": [],
   "source": [
    "f?"
   ]
  },
  {
   "cell_type": "code",
   "execution_count": 11,
   "id": "fc601831",
   "metadata": {},
   "outputs": [],
   "source": [
    "def Argument(*args):\n",
    "    \"\"\"Demonstrates the use of *args \"\"\"\n",
    "    s = 0\n",
    "    for i in range(len(args)):\n",
    "        s += args[i]\n",
    "    return s"
   ]
  },
  {
   "cell_type": "code",
   "execution_count": 13,
   "id": "d5437a8a",
   "metadata": {},
   "outputs": [
    {
     "data": {
      "text/plain": [
       "470"
      ]
     },
     "execution_count": 13,
     "metadata": {},
     "output_type": "execute_result"
    }
   ],
   "source": [
    "Argument(3,432,35)"
   ]
  },
  {
   "cell_type": "code",
   "execution_count": 15,
   "id": "8015760b",
   "metadata": {},
   "outputs": [],
   "source": [
    "def KeyArgument(**args):\n",
    "    \"\"\"For the demonstration of the **kwargs\"\"\"\n",
    "    for x in args:\n",
    "        print(\"variable name is :\", x, \"And the value is : \", args[x])\n",
    "        "
   ]
  },
  {
   "cell_type": "code",
   "execution_count": 1,
   "id": "75c27fcb",
   "metadata": {},
   "outputs": [
    {
     "ename": "NameError",
     "evalue": "name 'KeyArgument' is not defined",
     "output_type": "error",
     "traceback": [
      "\u001b[1;31m---------------------------------------------------------------------------\u001b[0m",
      "\u001b[1;31mNameError\u001b[0m                                 Traceback (most recent call last)",
      "\u001b[1;32m~\\AppData\\Local\\Temp\\ipykernel_4596\\436924068.py\u001b[0m in \u001b[0;36m<module>\u001b[1;34m\u001b[0m\n\u001b[1;32m----> 1\u001b[1;33m \u001b[0mKeyArgument\u001b[0m\u001b[1;33m(\u001b[0m\u001b[0ma\u001b[0m \u001b[1;33m=\u001b[0m \u001b[1;36m3\u001b[0m\u001b[1;33m,\u001b[0m \u001b[0mb\u001b[0m\u001b[1;33m=\u001b[0m\u001b[1;34m\"g\"\u001b[0m\u001b[1;33m,\u001b[0m \u001b[0mx\u001b[0m\u001b[1;33m=\u001b[0m \u001b[1;34m\"ruhtam\"\u001b[0m\u001b[1;33m)\u001b[0m\u001b[1;33m\u001b[0m\u001b[1;33m\u001b[0m\u001b[0m\n\u001b[0m",
      "\u001b[1;31mNameError\u001b[0m: name 'KeyArgument' is not defined"
     ]
    }
   ],
   "source": [
    "KeyArgument(a = 3, b=\"g\", x= \"ruhtam\")"
   ]
  },
  {
   "cell_type": "code",
   "execution_count": 4,
   "id": "0c9fda00",
   "metadata": {},
   "outputs": [],
   "source": [
    "def f9(sum = 9):\n",
    "    \"\"\"This funtion demonstrates the default values in a function\"\"\"\n",
    "    print(sum)\n",
    "    "
   ]
  },
  {
   "cell_type": "code",
   "execution_count": 7,
   "id": "4f0c0aaa",
   "metadata": {},
   "outputs": [
    {
     "name": "stdout",
     "output_type": "stream",
     "text": [
      "90\n"
     ]
    }
   ],
   "source": [
    "f9(90)"
   ]
  },
  {
   "cell_type": "markdown",
   "id": "77a46b1f",
   "metadata": {},
   "source": [
    "# Modules"
   ]
  },
  {
   "cell_type": "markdown",
   "id": "0eb37452",
   "metadata": {},
   "source": [
    "Modules are the python files that are required by you multiple times in a project or in various programes"
   ]
  },
  {
   "cell_type": "code",
   "execution_count": 31,
   "id": "543db8c7",
   "metadata": {},
   "outputs": [],
   "source": [
    "import sys\n",
    "sys.path.append('C:/python_module_test/')"
   ]
  },
  {
   "cell_type": "code",
   "execution_count": 42,
   "id": "9271a36b",
   "metadata": {},
   "outputs": [],
   "source": [
    "import Module_test as m"
   ]
  },
  {
   "cell_type": "code",
   "execution_count": 44,
   "id": "481a8a08",
   "metadata": {},
   "outputs": [
    {
     "data": {
      "text/plain": [
       "371"
      ]
     },
     "execution_count": 44,
     "metadata": {},
     "output_type": "execute_result"
    }
   ],
   "source": [
    "m.add(5,343,23)"
   ]
  },
  {
   "cell_type": "code",
   "execution_count": 46,
   "id": "5b7694d9",
   "metadata": {},
   "outputs": [],
   "source": [
    "from Module_test import add"
   ]
  },
  {
   "cell_type": "code",
   "execution_count": 48,
   "id": "5d2b04c3",
   "metadata": {},
   "outputs": [
    {
     "name": "stdout",
     "output_type": "stream",
     "text": [
      "64\n"
     ]
    }
   ],
   "source": [
    "d = add(1, 2, 4, 1,56)\n",
    "print(d)"
   ]
  },
  {
   "cell_type": "markdown",
   "id": "890784bd",
   "metadata": {},
   "source": [
    "# String"
   ]
  },
  {
   "cell_type": "code",
   "execution_count": 1,
   "id": "eeae41da",
   "metadata": {},
   "outputs": [],
   "source": [
    "s = \"ruhtam\""
   ]
  },
  {
   "cell_type": "code",
   "execution_count": 2,
   "id": "3a27f221",
   "metadata": {},
   "outputs": [],
   "source": [
    "t = \"Lahsiv\""
   ]
  },
  {
   "cell_type": "code",
   "execution_count": 3,
   "id": "0c33b9f1",
   "metadata": {},
   "outputs": [],
   "source": [
    "s = \"Ruhtam\""
   ]
  },
  {
   "cell_type": "code",
   "execution_count": 7,
   "id": "5c284b74",
   "metadata": {},
   "outputs": [
    {
     "name": "stdout",
     "output_type": "stream",
     "text": [
      "RuhtamLahsiv\n"
     ]
    }
   ],
   "source": [
    "print (s + t)"
   ]
  },
  {
   "cell_type": "code",
   "execution_count": 4,
   "id": "de64a78c",
   "metadata": {},
   "outputs": [
    {
     "name": "stdout",
     "output_type": "stream",
     "text": [
      "The price of this icecream is: 12\n",
      "The price of this icecream is:  12\n"
     ]
    }
   ],
   "source": [
    "price = 12\n",
    "s = \"The price of this icecream\"\n",
    "v = s + \" is: \" + str(price)\n",
    "print(v)\n",
    "print(s, \"is: \", price)"
   ]
  },
  {
   "cell_type": "code",
   "execution_count": 7,
   "id": "6931c5fb",
   "metadata": {},
   "outputs": [],
   "source": [
    "h = \"\"\"use triple quotes for\n",
    "multiline \n",
    "string\"\"\""
   ]
  },
  {
   "cell_type": "code",
   "execution_count": 8,
   "id": "77b58198",
   "metadata": {},
   "outputs": [
    {
     "name": "stdout",
     "output_type": "stream",
     "text": [
      "use triple quotes for\n",
      "multiline \n",
      "string\n"
     ]
    }
   ],
   "source": [
    "print(h)"
   ]
  },
  {
   "cell_type": "code",
   "execution_count": 9,
   "id": "819ba773",
   "metadata": {},
   "outputs": [
    {
     "name": "stdout",
     "output_type": "stream",
     "text": [
      "A TON OF SPACES       CRAP\n",
      "a ton of spaces       crap\n",
      "A, ton, of, spaces, , , , , , , crap\n"
     ]
    }
   ],
   "source": [
    "a = \"                   A ton of spaces       crap        \"\n",
    "b = a.strip()\n",
    "print(b.upper())\n",
    "print(b.lower())\n",
    "print(b.replace(\" \", \", \"))"
   ]
  },
  {
   "cell_type": "code",
   "execution_count": null,
   "id": "27892b5f",
   "metadata": {},
   "outputs": [],
   "source": []
  }
 ],
 "metadata": {
  "kernelspec": {
   "display_name": "Python 3 (ipykernel)",
   "language": "python",
   "name": "python3"
  },
  "language_info": {
   "codemirror_mode": {
    "name": "ipython",
    "version": 3
   },
   "file_extension": ".py",
   "mimetype": "text/x-python",
   "name": "python",
   "nbconvert_exporter": "python",
   "pygments_lexer": "ipython3",
   "version": "3.9.13"
  }
 },
 "nbformat": 4,
 "nbformat_minor": 5
}
