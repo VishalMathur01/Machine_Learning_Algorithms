{
 "cells": [
  {
   "cell_type": "code",
   "execution_count": 4,
   "id": "e0e2e150",
   "metadata": {},
   "outputs": [],
   "source": [
    "def ganga():\n",
    "    for i in range(10, 100, 10):\n",
    "        print(\"Ganga is great\")\n",
    "    return 1\n",
    "def narmada():\n",
    "    for i in range(20, 200, 20):\n",
    "        print(\"brahmaputra\")\n",
    "    return 2\n",
    "def tapi():\n",
    "    for i in range(50, -100,-10):\n",
    "        print('tapi')\n",
    "    return 3"
   ]
  }
 ],
 "metadata": {
  "kernelspec": {
   "display_name": "Python 3 (ipykernel)",
   "language": "python",
   "name": "python3"
  },
  "language_info": {
   "codemirror_mode": {
    "name": "ipython",
    "version": 3
   },
   "file_extension": ".py",
   "mimetype": "text/x-python",
   "name": "python",
   "nbconvert_exporter": "python",
   "pygments_lexer": "ipython3",
   "version": "3.9.13"
  }
 },
 "nbformat": 4,
 "nbformat_minor": 5
}
