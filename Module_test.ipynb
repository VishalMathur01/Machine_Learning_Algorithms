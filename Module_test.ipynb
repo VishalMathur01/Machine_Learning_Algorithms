{
 "cells": [
  {
   "cell_type": "code",
   "execution_count": 4,
   "id": "2616d062",
   "metadata": {},
   "outputs": [],
   "source": [
    "def check(*args):\n",
    "    retValue =  True\n",
    "    for x in args:\n",
    "        if not (isinstance(x, (int , float))):\n",
    "            return False\n",
    "    return True \n",
    "\n",
    "def add (*args):\n",
    "    s = 0\n",
    "    for x in args:\n",
    "        s += x\n",
    "    return s\n",
    "\n",
    "myName = \"Ruhtam_Lahsiv\""
   ]
  }
 ],
 "metadata": {
  "kernelspec": {
   "display_name": "Python 3 (ipykernel)",
   "language": "python",
   "name": "python3"
  },
  "language_info": {
   "codemirror_mode": {
    "name": "ipython",
    "version": 3
   },
   "file_extension": ".py",
   "mimetype": "text/x-python",
   "name": "python",
   "nbconvert_exporter": "python",
   "pygments_lexer": "ipython3",
   "version": "3.9.13"
  }
 },
 "nbformat": 4,
 "nbformat_minor": 5
}
